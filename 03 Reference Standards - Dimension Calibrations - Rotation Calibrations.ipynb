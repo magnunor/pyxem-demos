{
 "cells": [
  {
   "cell_type": "markdown",
   "metadata": {},
   "source": [
    "# Introduction"
   ]
  },
  {
   "cell_type": "markdown",
   "metadata": {},
   "source": [
    "This notebook demonstrates how to calibrate real and reciprocal space coordinates of scanning electron diffraction data. Calibrations include correcting the diffraction pattern for lens distortions and determining the rotation between the scan and diffraction planes based on data acquired from reference standards."
   ]
  },
  {
   "cell_type": "markdown",
   "metadata": {},
   "source": [
    "This functionaility has been checked to run in pyxem-0.11.0 (May 2020). Bugs are always possible, do not trust the code blindly, and if you experience any issues please report them here: https://github.com/pyxem/pyxem-demos/issues"
   ]
  },
  {
   "cell_type": "markdown",
   "metadata": {},
   "source": [
    "# Contents"
   ]
  },
  {
   "cell_type": "markdown",
   "metadata": {},
   "source": [
    "1. <a href='#ini'> Load Data & Initialize Generator</a>\n",
    "2. <a href='#dis'> Determine Lens Distortions</a>\n",
    "3. <a href='#cal'> Determine Real & Reciprocal Space Calibrations</a>\n",
    "4. <a href='#rot'> Determin Real & Reciprocal Space Rotation</a> "
   ]
  },
  {
   "cell_type": "markdown",
   "metadata": {},
   "source": [
    "Import pyxem, required libraries and pyxem modules"
   ]
  },
  {
   "cell_type": "code",
   "execution_count": null,
   "metadata": {},
   "outputs": [],
   "source": [
    "%matplotlib tk\n",
    "import numpy as np\n",
    "import hyperspy.api as hs\n",
    "import pyxem as pxm\n",
    "\n",
    "from pyxem.libraries.calibration_library import CalibrationDataLibrary\n",
    "from pyxem.generators.calibration_generator import CalibrationGenerator"
   ]
  },
  {
   "cell_type": "markdown",
   "metadata": {},
   "source": [
    "Download and the data for this demo from here and put in directory with notebooks:\n",
    "\n",
    "https://drive.google.com/drive/folders/1guzxUcHYNkB3CMClQ-Dhv9cCc1-N15Fj?usp=sharing"
   ]
  },
  {
   "cell_type": "markdown",
   "metadata": {},
   "source": [
    "# <a id='ini'></a> 1. Load Data & Initialize Generator"
   ]
  },
  {
   "cell_type": "markdown",
   "metadata": {},
   "source": [
    "Load spatially averaged diffraction pattern from Au X-grating for distortion calibration"
   ]
  },
  {
   "cell_type": "code",
   "execution_count": null,
   "metadata": {},
   "outputs": [],
   "source": [
    "au_dpeg = hs.load('./data/03/au_xgrating_20cm.tif')"
   ]
  },
  {
   "cell_type": "markdown",
   "metadata": {},
   "source": [
    "Load a VDF image of Au X-grating for scan pixel calibration"
   ]
  },
  {
   "cell_type": "code",
   "execution_count": null,
   "metadata": {},
   "outputs": [],
   "source": [
    "au_im = hs.load('./data/03/au_xgrating_100kX.hspy')"
   ]
  },
  {
   "cell_type": "markdown",
   "metadata": {},
   "source": [
    "Load spatially averaged diffraction pattern from MoO3 standard for rotation calibration"
   ]
  },
  {
   "cell_type": "code",
   "execution_count": null,
   "metadata": {},
   "outputs": [],
   "source": [
    "moo3_dpeg = hs.load('./data/03/moo3_20cm.tif')"
   ]
  },
  {
   "cell_type": "markdown",
   "metadata": {},
   "source": [
    "Load a VDF image of MoO3 standard for rotation calibration"
   ]
  },
  {
   "cell_type": "code",
   "execution_count": null,
   "metadata": {},
   "outputs": [],
   "source": [
    "moo3_im = hs.load('./data/03/moo3_100kX.tif')"
   ]
  },
  {
   "cell_type": "markdown",
   "metadata": {},
   "source": [
    "Define a CalibrationDataLibary as a container for calibration data."
   ]
  },
  {
   "cell_type": "code",
   "execution_count": null,
   "metadata": {},
   "outputs": [],
   "source": [
    "cal_lib = CalibrationDataLibrary(au_x_grating_dp=au_dpeg,\n",
    "                                 au_x_grating_im=au_im,\n",
    "                                 moo3_dp=moo3_dpeg,\n",
    "                                 moo3_im=moo3_im)"
   ]
  },
  {
   "cell_type": "markdown",
   "metadata": {},
   "source": [
    "Plot the calibration library data for inspection"
   ]
  },
  {
   "cell_type": "code",
   "execution_count": null,
   "metadata": {},
   "outputs": [],
   "source": [
    "cal_lib.plot_calibration_data(data_to_plot='au_x_grating_dp',\n",
    "                              cmap='inferno', vmax=0.1)"
   ]
  },
  {
   "cell_type": "code",
   "execution_count": null,
   "metadata": {},
   "outputs": [],
   "source": [
    "cal_lib.plot_calibration_data(data_to_plot='au_x_grating_im')"
   ]
  },
  {
   "cell_type": "code",
   "execution_count": null,
   "metadata": {},
   "outputs": [],
   "source": [
    "cal_lib.plot_calibration_data(data_to_plot='moo3_dp',\n",
    "                              cmap='inferno', vmax=1)"
   ]
  },
  {
   "cell_type": "code",
   "execution_count": null,
   "metadata": {},
   "outputs": [],
   "source": [
    "cal_lib.plot_calibration_data(data_to_plot='moo3_im')"
   ]
  },
  {
   "cell_type": "markdown",
   "metadata": {},
   "source": [
    "Initialise a CalibrationGenerator with the CalibrationDataLibrary"
   ]
  },
  {
   "cell_type": "code",
   "execution_count": null,
   "metadata": {},
   "outputs": [],
   "source": [
    "cal = CalibrationGenerator(calibration_data=cal_lib)"
   ]
  },
  {
   "cell_type": "markdown",
   "metadata": {},
   "source": [
    "# <a id='ids'></a> 2. Determine Lens Distortions"
   ]
  },
  {
   "cell_type": "markdown",
   "metadata": {},
   "source": [
    "Lens distortions are assumed to be dominated by elliptical distortion due to the projector lens system. See, for example: https://www.sciencedirect.com/science/article/pii/S0304399105001087?via%3Dihub\n",
    "\n",
    "Distortion correction is based on measuring the ellipticity of a ring pattern obtained from an Au X-grating calibration standard in scaninng mode."
   ]
  },
  {
   "cell_type": "markdown",
   "metadata": {},
   "source": [
    "Determine distortion correction matrix by ring fitting"
   ]
  },
  {
   "cell_type": "code",
   "execution_count": null,
   "metadata": {},
   "outputs": [],
   "source": [
    "cal.get_elliptical_distortion(mask_radius=10,\n",
    "                              scale=100, amplitude=1000,\n",
    "                              asymmetry=0.9,spread=2)"
   ]
  },
  {
   "cell_type": "markdown",
   "metadata": {},
   "source": [
    "Obtain residuals before and after distortion correction and plot to inspect, the aim is for any differences to be small and circularly symmetric"
   ]
  },
  {
   "cell_type": "code",
   "execution_count": null,
   "metadata": {},
   "outputs": [],
   "source": [
    "residuals = cal.get_distortion_residuals(mask_radius=10, spread=2)\n",
    "residuals.plot(cmap='RdBu', vmax=0.04)"
   ]
  },
  {
   "cell_type": "markdown",
   "metadata": {},
   "source": [
    "Plot distortion corrected diffraction pattern with adjustable reference circle for inspection"
   ]
  },
  {
   "cell_type": "code",
   "execution_count": null,
   "metadata": {},
   "outputs": [],
   "source": [
    "cal.plot_corrected_diffraction_pattern(vmax=0.1)"
   ]
  },
  {
   "cell_type": "markdown",
   "metadata": {},
   "source": [
    "Check the affine matrix, which may be applied to other data"
   ]
  },
  {
   "cell_type": "code",
   "execution_count": null,
   "metadata": {},
   "outputs": [],
   "source": [
    "cal.affine_matrix"
   ]
  },
  {
   "cell_type": "markdown",
   "metadata": {},
   "source": [
    "Inspect the ring fitting parameters"
   ]
  },
  {
   "cell_type": "code",
   "execution_count": null,
   "metadata": {},
   "outputs": [],
   "source": [
    "cal.ring_params"
   ]
  },
  {
   "cell_type": "markdown",
   "metadata": {},
   "source": [
    "Calculate correction matrix and confirm that in this case it is equal to the affine matrix"
   ]
  },
  {
   "cell_type": "code",
   "execution_count": null,
   "metadata": {},
   "outputs": [],
   "source": [
    "cal.get_correction_matrix()"
   ]
  },
  {
   "cell_type": "markdown",
   "metadata": {},
   "source": [
    "# <a href='#cal'></a> 3. Determining Real & Reciprocal Space Scales"
   ]
  },
  {
   "cell_type": "markdown",
   "metadata": {},
   "source": [
    "Determine the diffraction pattern calibration in reciprocal Angstroms per pixel"
   ]
  },
  {
   "cell_type": "code",
   "execution_count": null,
   "metadata": {
    "scrolled": true
   },
   "outputs": [],
   "source": [
    "cal.get_diffraction_calibration(mask_length=30,\n",
    "                                linewidth=5)"
   ]
  },
  {
   "cell_type": "markdown",
   "metadata": {},
   "source": [
    "Plot the calibrated diffraction data to check it looks about right"
   ]
  },
  {
   "cell_type": "code",
   "execution_count": null,
   "metadata": {},
   "outputs": [],
   "source": [
    "cal.plot_calibrated_data(data_to_plot='au_x_grating_dp',\n",
    "                         cmap='magma', vmax=0.1)"
   ]
  },
  {
   "cell_type": "markdown",
   "metadata": {},
   "source": [
    "Plot the cross grating image data to define the line along which to take trace"
   ]
  },
  {
   "cell_type": "code",
   "execution_count": null,
   "metadata": {},
   "outputs": [],
   "source": [
    "line = pxm.roi.Line2DROI(x1=4.83957, y1=44.4148, x2=246.46, y2=119.159, linewidth=5.57199)\n",
    "\n",
    "cal_lib.plot_calibration_data(data_to_plot='au_x_grating_im',\n",
    "                              roi=line)"
   ]
  },
  {
   "cell_type": "markdown",
   "metadata": {},
   "source": [
    "Obtain the navigation calibration from the trace"
   ]
  },
  {
   "cell_type": "code",
   "execution_count": null,
   "metadata": {},
   "outputs": [],
   "source": [
    "trace = line(cal_lib.au_x_grating_im).as_signal1D(0)\n",
    "trace.plot()"
   ]
  },
  {
   "cell_type": "code",
   "execution_count": null,
   "metadata": {},
   "outputs": [],
   "source": [
    "cal.get_navigation_calibration(line_roi=line, x1=40.,x2=232.,\n",
    "                               n=3, xspace=500.)"
   ]
  },
  {
   "cell_type": "markdown",
   "metadata": {},
   "source": [
    "# <a href='#rot'></a> 4. Determining Real & Reciprocal Space Rotation"
   ]
  },
  {
   "cell_type": "markdown",
   "metadata": {},
   "source": [
    "MoO3 calibration data acquired. Crystal structure taken from SpringerMaterials \"alpha-MoO3 (MoO3 rt) Crystal Structure\" in the standard setting as:\n",
    "\n",
    "Orthorhombic, Pnma (62), a = 13.825 A, b = 3.694 A, c = 3.954 A, alpha = 90, beta = 90, gamma = 90.\n",
    "\n",
    "b/c ratio = 0.934\n",
    "\n",
    "In this setting, large facets are expected to be (001) and the long axis is parallel to [010].\n",
    "\n",
    "Note that the early published structure of MoO3 was reported in the non-standard Pbnm setting (a=3.954, b=13.825, c=3.694), which is commonly used in literature and in that case the long axis is parallel to [001]. Much of the literature describing this calibration is also inconsistent or incorrect."
   ]
  },
  {
   "cell_type": "code",
   "execution_count": null,
   "metadata": {},
   "outputs": [],
   "source": [
    "recip_line = pxm.roi.Line2DROI(x1=-0.30367, y1=-1.21457, x2=0.344978, y2=1.24927, linewidth=0.115582)\n",
    "\n",
    "cal.plot_calibrated_data(data_to_plot='moo3_dp', cmap='magma', vmax=1, line=recip_line)"
   ]
  },
  {
   "cell_type": "code",
   "execution_count": null,
   "metadata": {},
   "outputs": [],
   "source": [
    "1 / ((1.77 - 0.72)/4)"
   ]
  },
  {
   "cell_type": "code",
   "execution_count": null,
   "metadata": {},
   "outputs": [],
   "source": [
    "real_line = pxm.roi.Line2DROI(x1=2.69824, y1=81.4867, x2=229.155, y2=61.6898, linewidth=3)\n",
    "\n",
    "cal.plot_calibrated_data(data_to_plot='moo3_im', line=real_line)"
   ]
  },
  {
   "cell_type": "markdown",
   "metadata": {},
   "source": [
    "Calculate the rotation angle between the lines"
   ]
  },
  {
   "cell_type": "code",
   "execution_count": null,
   "metadata": {},
   "outputs": [],
   "source": [
    "cal.get_rotation_calibration(real_line, recip_line)"
   ]
  },
  {
   "cell_type": "markdown",
   "metadata": {},
   "source": [
    "Determine the correction matrix including both affine distortion correction and rotation"
   ]
  },
  {
   "cell_type": "code",
   "execution_count": null,
   "metadata": {},
   "outputs": [],
   "source": [
    "cal.get_correction_matrix()"
   ]
  },
  {
   "cell_type": "markdown",
   "metadata": {},
   "source": [
    "Plot RGB overlay showing alignment of the diffraction pattern with the MoO3 particle morphology"
   ]
  },
  {
   "cell_type": "code",
   "execution_count": null,
   "metadata": {},
   "outputs": [],
   "source": [
    "cal.plot_calibrated_data(data_to_plot='rotation_overlay')"
   ]
  },
  {
   "cell_type": "code",
   "execution_count": null,
   "metadata": {},
   "outputs": [],
   "source": []
  }
 ],
 "metadata": {
  "anaconda-cloud": {},
  "kernelspec": {
   "display_name": "Python 3",
   "language": "python",
   "name": "python3"
  },
  "language_info": {
   "codemirror_mode": {
    "name": "ipython",
    "version": 3
   },
   "file_extension": ".py",
   "mimetype": "text/x-python",
   "name": "python",
   "nbconvert_exporter": "python",
   "pygments_lexer": "ipython3",
   "version": "3.9.1+"
  }
 },
 "nbformat": 4,
 "nbformat_minor": 4
}
